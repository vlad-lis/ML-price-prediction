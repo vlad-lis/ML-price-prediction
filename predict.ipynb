{
 "cells": [
  {
   "attachments": {},
   "cell_type": "markdown",
   "id": "e29e9301",
   "metadata": {},
   "source": [
    "# Used cars price prediction - Ironhack midterm project"
   ]
  },
  {
   "attachments": {},
   "cell_type": "markdown",
   "id": "37dad8cd",
   "metadata": {},
   "source": [
    "## 1. EDA"
   ]
  },
  {
   "cell_type": "code",
   "execution_count": null,
   "id": "38a4aa95",
   "metadata": {},
   "outputs": [],
   "source": [
    "import pandas as pd\n",
    "import numpy as np\n",
    "import statistics as stats\n",
    "import seaborn as sns\n",
    "import matplotlib.pyplot as plt\n",
    "import math\n",
    "from sklearn.preprocessing import PowerTransformer, StandardScaler, minmax_scale, OneHotEncoder\n",
    "%matplotlib inline\n",
    "\n",
    "from scipy.stats import iqr\n",
    "from sklearn.compose import ColumnTransformer\n",
    "from sklearn.linear_model import LinearRegression\n",
    "from sklearn.model_selection import train_test_split\n",
    "import statsmodels.api as sm\n",
    "\n",
    "from sklearn.metrics import r2_score\n",
    "from sklearn.metrics import mean_squared_error as mse\n",
    "from sklearn.metrics import mean_absolute_error as mae\n",
    "from sklearn.metrics import precision_score"
   ]
  },
  {
   "attachments": {},
   "cell_type": "markdown",
   "id": "a8a39394",
   "metadata": {},
   "source": [
    "#### EDA results:\n",
    "\n",
    "* 'car data.csv' has anomalies in feature values; the file is ignored in the analysis due to its low statistical value with only 300 rows.\n",
    "* 'model' and 'engine' categorical columns have too many unique values; these columns will be ignored for the final data set due to the amount of dummified columns they would create after normalizing the data.\n",
    "* in order to concatenate the csv files into one dataframe columns 'location', 'color', 'mileage', 'max power', 'max torque', 'drivetrain', 'length', 'width', 'height', 'fuel tank capacity', 'seats' will be ignored, since they are not present in each file.\n",
    "* concatenating three csv files will result in a dataframe with over 14k observations."
   ]
  },
  {
   "cell_type": "code",
   "execution_count": null,
   "id": "5b8ff04d",
   "metadata": {},
   "outputs": [],
   "source": [
    "df1 = pd.read_csv('./data/CAR DETAILS FROM CAR DEKHO.csv')\n",
    "df2 = pd.read_csv('./data/Car details v3.csv')\n",
    "df3 = pd.read_csv('./data/car details v4.csv')"
   ]
  },
  {
   "cell_type": "code",
   "execution_count": null,
   "id": "454444a3",
   "metadata": {
    "scrolled": false
   },
   "outputs": [
    {
     "data": {
      "text/html": [
       "<div>\n",
       "<style scoped>\n",
       "    .dataframe tbody tr th:only-of-type {\n",
       "        vertical-align: middle;\n",
       "    }\n",
       "\n",
       "    .dataframe tbody tr th {\n",
       "        vertical-align: top;\n",
       "    }\n",
       "\n",
       "    .dataframe thead th {\n",
       "        text-align: right;\n",
       "    }\n",
       "</style>\n",
       "<table border=\"1\" class=\"dataframe\">\n",
       "  <thead>\n",
       "    <tr style=\"text-align: right;\">\n",
       "      <th></th>\n",
       "      <th>Price</th>\n",
       "      <th>Year</th>\n",
       "      <th>Kilometer</th>\n",
       "      <th>Length</th>\n",
       "      <th>Width</th>\n",
       "      <th>Height</th>\n",
       "      <th>Seating Capacity</th>\n",
       "      <th>Fuel Tank Capacity</th>\n",
       "    </tr>\n",
       "  </thead>\n",
       "  <tbody>\n",
       "    <tr>\n",
       "      <th>count</th>\n",
       "      <td>2059.0</td>\n",
       "      <td>2059.0</td>\n",
       "      <td>2059.0</td>\n",
       "      <td>1995.0</td>\n",
       "      <td>1995.0</td>\n",
       "      <td>1995.0</td>\n",
       "      <td>1995.0</td>\n",
       "      <td>1946.0</td>\n",
       "    </tr>\n",
       "    <tr>\n",
       "      <th>mean</th>\n",
       "      <td>1702992.0</td>\n",
       "      <td>2016.0</td>\n",
       "      <td>54225.0</td>\n",
       "      <td>4281.0</td>\n",
       "      <td>1768.0</td>\n",
       "      <td>1592.0</td>\n",
       "      <td>5.0</td>\n",
       "      <td>52.0</td>\n",
       "    </tr>\n",
       "    <tr>\n",
       "      <th>std</th>\n",
       "      <td>2419881.0</td>\n",
       "      <td>3.0</td>\n",
       "      <td>57362.0</td>\n",
       "      <td>442.0</td>\n",
       "      <td>135.0</td>\n",
       "      <td>136.0</td>\n",
       "      <td>1.0</td>\n",
       "      <td>15.0</td>\n",
       "    </tr>\n",
       "    <tr>\n",
       "      <th>min</th>\n",
       "      <td>49000.0</td>\n",
       "      <td>1988.0</td>\n",
       "      <td>0.0</td>\n",
       "      <td>3099.0</td>\n",
       "      <td>1475.0</td>\n",
       "      <td>1165.0</td>\n",
       "      <td>2.0</td>\n",
       "      <td>15.0</td>\n",
       "    </tr>\n",
       "    <tr>\n",
       "      <th>25%</th>\n",
       "      <td>484999.0</td>\n",
       "      <td>2014.0</td>\n",
       "      <td>29000.0</td>\n",
       "      <td>3985.0</td>\n",
       "      <td>1695.0</td>\n",
       "      <td>1485.0</td>\n",
       "      <td>5.0</td>\n",
       "      <td>41.0</td>\n",
       "    </tr>\n",
       "    <tr>\n",
       "      <th>50%</th>\n",
       "      <td>825000.0</td>\n",
       "      <td>2017.0</td>\n",
       "      <td>50000.0</td>\n",
       "      <td>4370.0</td>\n",
       "      <td>1770.0</td>\n",
       "      <td>1545.0</td>\n",
       "      <td>5.0</td>\n",
       "      <td>50.0</td>\n",
       "    </tr>\n",
       "    <tr>\n",
       "      <th>75%</th>\n",
       "      <td>1925000.0</td>\n",
       "      <td>2019.0</td>\n",
       "      <td>72000.0</td>\n",
       "      <td>4629.0</td>\n",
       "      <td>1832.0</td>\n",
       "      <td>1675.0</td>\n",
       "      <td>5.0</td>\n",
       "      <td>60.0</td>\n",
       "    </tr>\n",
       "    <tr>\n",
       "      <th>max</th>\n",
       "      <td>35000000.0</td>\n",
       "      <td>2022.0</td>\n",
       "      <td>2000000.0</td>\n",
       "      <td>5569.0</td>\n",
       "      <td>2220.0</td>\n",
       "      <td>1995.0</td>\n",
       "      <td>8.0</td>\n",
       "      <td>105.0</td>\n",
       "    </tr>\n",
       "  </tbody>\n",
       "</table>\n",
       "</div>"
      ],
      "text/plain": [
       "            Price    Year  Kilometer  Length   Width  Height  \\\n",
       "count      2059.0  2059.0     2059.0  1995.0  1995.0  1995.0   \n",
       "mean    1702992.0  2016.0    54225.0  4281.0  1768.0  1592.0   \n",
       "std     2419881.0     3.0    57362.0   442.0   135.0   136.0   \n",
       "min       49000.0  1988.0        0.0  3099.0  1475.0  1165.0   \n",
       "25%      484999.0  2014.0    29000.0  3985.0  1695.0  1485.0   \n",
       "50%      825000.0  2017.0    50000.0  4370.0  1770.0  1545.0   \n",
       "75%     1925000.0  2019.0    72000.0  4629.0  1832.0  1675.0   \n",
       "max    35000000.0  2022.0  2000000.0  5569.0  2220.0  1995.0   \n",
       "\n",
       "       Seating Capacity  Fuel Tank Capacity  \n",
       "count            1995.0              1946.0  \n",
       "mean                5.0                52.0  \n",
       "std                 1.0                15.0  \n",
       "min                 2.0                15.0  \n",
       "25%                 5.0                41.0  \n",
       "50%                 5.0                50.0  \n",
       "75%                 5.0                60.0  \n",
       "max                 8.0               105.0  "
      ]
     },
     "execution_count": 3,
     "metadata": {},
     "output_type": "execute_result"
    }
   ],
   "source": [
    "df3.describe().round()"
   ]
  },
  {
   "attachments": {},
   "cell_type": "markdown",
   "id": "8120d8dd",
   "metadata": {},
   "source": [
    "## 2. Data cleaning"
   ]
  },
  {
   "attachments": {},
   "cell_type": "markdown",
   "id": "65ad26ad",
   "metadata": {},
   "source": [
    "#### data cleaning results:\n",
    "* extracted the first word (Make) in the 'name' and 'owner' columns.\n",
    "* dropped extra columns.\n",
    "* formatted 'selling price' column.\n",
    "* concatenated three files into a new dataframe.\n",
    "* checked for null values.\n",
    "* checked for duplicates (2.2k duplicates found) and droppped them.\n",
    "* checked data types (all correct)."
   ]
  },
  {
   "cell_type": "code",
   "execution_count": null,
   "id": "3956a12a",
   "metadata": {},
   "outputs": [],
   "source": [
    "df1['name'] = df1['name'].apply(lambda x: x.split()[0])\n",
    "df2['name'] = df2['name'].apply(lambda x: x.split()[0])\n"
   ]
  },
  {
   "cell_type": "code",
   "execution_count": null,
   "id": "19511281",
   "metadata": {},
   "outputs": [],
   "source": [
    "df1['owner'] = df1['owner'].apply(lambda x: x.split()[0])\n",
    "df2['owner'] = df2['owner'].apply(lambda x: x.split()[0])"
   ]
  },
  {
   "cell_type": "code",
   "execution_count": null,
   "id": "806da4e2",
   "metadata": {},
   "outputs": [],
   "source": [
    "df3.rename(columns=\n",
    "           {\"Year\": \"year\",\n",
    "            \"Price\": \"selling_price\",\n",
    "            \"Kilometer\": \"km_driven\", \n",
    "            \"Fuel Type\": \"fuel\", \n",
    "            \"Seller Type\": \"seller_type\", \n",
    "            \"Transmission\": \"transmission\", \n",
    "            \"Make\": \"name\",\n",
    "            \"Owner\": \"owner\"},inplace=True)\n",
    "\n",
    "df1[\"selling_price\"] /= 100\n",
    "df1[\"selling_price\"] = df1[\"selling_price\"].astype(int)\n",
    "\n",
    "df2[\"selling_price\"] /= 100\n",
    "df2[\"selling_price\"] = df2[\"selling_price\"].astype(int)\n",
    "\n",
    "df3[\"selling_price\"] /= 100\n",
    "df3[\"selling_price\"] = df3[\"selling_price\"].astype(int)"
   ]
  },
  {
   "cell_type": "code",
   "execution_count": null,
   "id": "d34810fc",
   "metadata": {},
   "outputs": [],
   "source": [
    "df2.drop(['mileage', 'engine', 'max_power', 'torque', 'seats'], axis=1, inplace=True)\n",
    "df3.drop(['Model', 'Location', 'Color', 'Engine', 'Max Power', 'Max Torque', \n",
    "          'Drivetrain', 'Length', 'Width', 'Height', 'Seating Capacity', 'Fuel Tank Capacity'], axis=1, inplace=True)\n"
   ]
  },
  {
   "cell_type": "code",
   "execution_count": null,
   "id": "fcf6a399",
   "metadata": {},
   "outputs": [],
   "source": [
    "df = pd.concat([df1, df2, df3], ignore_index=True)"
   ]
  },
  {
   "cell_type": "code",
   "execution_count": null,
   "id": "a9ef89b9",
   "metadata": {},
   "outputs": [],
   "source": [
    "# check for duplicates\n",
    "dup = df[df.duplicated(keep=False)].sort_values(by=['selling_price'])"
   ]
  },
  {
   "cell_type": "code",
   "execution_count": null,
   "id": "12426f42",
   "metadata": {
    "scrolled": false
   },
   "outputs": [],
   "source": [
    "# drop duplicates\n",
    "df.drop_duplicates(inplace=True, ignore_index=True)"
   ]
  },
  {
   "cell_type": "code",
   "execution_count": null,
   "id": "2090615f",
   "metadata": {
    "scrolled": false
   },
   "outputs": [],
   "source": [
    "# change 'year' to 'age' (and count it)\n",
    "df.rename(columns={'year': 'age'}, inplace=True)\n",
    "df['age'] = df['age'].apply(lambda x: df['age'].max()+1-x)"
   ]
  },
  {
   "cell_type": "code",
   "execution_count": null,
   "id": "e74cb3d2",
   "metadata": {},
   "outputs": [],
   "source": [
    "# clean values in 'fuel' column\n",
    "def clean_fuel(value):\n",
    "    if 'CNG' in value:\n",
    "        value = 'CNG'\n",
    "    elif 'Petrol' in value:\n",
    "        value = 'Petrol'\n",
    "    return value\n",
    "\n",
    "df['fuel'] = df['fuel'].apply(lambda x: clean_fuel(x))"
   ]
  },
  {
   "cell_type": "code",
   "execution_count": null,
   "id": "095febf7",
   "metadata": {},
   "outputs": [],
   "source": [
    "# transform values in 'owner' column\n",
    "def clean_owner(value):\n",
    "    if value == 'Test' or value == 'UnRegistered Car':\n",
    "        value = 0\n",
    "    elif value == 'First':\n",
    "        value = 1\n",
    "    elif value == 'Second':\n",
    "        value = 2\n",
    "    elif value == 'Third':\n",
    "        value = 3\n",
    "    elif value == 'Fourth':\n",
    "        value = 4\n",
    "    elif value == '4 or More':\n",
    "        value = 5\n",
    "    return value\n",
    "\n",
    "df['owner'] = df['owner'].apply(lambda x: clean_owner(x))"
   ]
  },
  {
   "cell_type": "code",
   "execution_count": null,
   "id": "4ea9bdae",
   "metadata": {},
   "outputs": [],
   "source": [
    "# clean 'seller_type' column\n",
    "def clean_seller(value):\n",
    "    if 'Dealer' in value:\n",
    "        value = 'Dealer'\n",
    "    elif value == 'Commercial Registration':\n",
    "        value = 'Corporate'\n",
    "    return value\n",
    "\n",
    "df['seller_type'] = df['seller_type'].apply(lambda x: clean_seller(x))"
   ]
  },
  {
   "attachments": {},
   "cell_type": "markdown",
   "id": "473dca1b",
   "metadata": {},
   "source": [
    "## Data transformation"
   ]
  },
  {
   "attachments": {},
   "cell_type": "markdown",
   "id": "48a1356f",
   "metadata": {},
   "source": [
    "#### Results:\n",
    "* Made plots for km driven, year & selling price."
   ]
  },
  {
   "cell_type": "code",
   "execution_count": null,
   "id": "9d00c527",
   "metadata": {},
   "outputs": [
    {
     "data": {
      "image/png": "[encoded data removed]",
      "text/plain": [
       "<Figure size 640x480 with 1 Axes>"
      ]
     },
     "metadata": {},
     "output_type": "display_data"
    }
   ],
   "source": [
    "plt.scatter(x=df['km_driven'], y=df['selling_price'],c='g')\n",
    "plt.show()"
   ]
  },
  {
   "cell_type": "code",
   "execution_count": null,
   "id": "b2a93434",
   "metadata": {},
   "outputs": [
    {
     "data": {
      "image/png": "[encoded data removed]",
      "text/plain": [
       "<Figure size 640x480 with 1 Axes>"
      ]
     },
     "metadata": {},
     "output_type": "display_data"
    }
   ],
   "source": [
    "plt.scatter(x=df['age'], y=df['selling_price'],c='g')\n",
    "plt.show()"
   ]
  },
  {
   "attachments": {},
   "cell_type": "markdown",
   "id": "30d90fc3",
   "metadata": {},
   "source": [
    "#### Removing outliers"
   ]
  },
  {
   "cell_type": "code",
   "execution_count": null,
   "id": "e676c337",
   "metadata": {},
   "outputs": [],
   "source": [
    "#remove outliers\n",
    "def remove_outliers(df):\n",
    "    for c in df.columns:\n",
    "            pct_75 = np.percentile(df[c], 75)\n",
    "            pct_25 = np.percentile(df[c], 25)\n",
    "            upper_bound = pct_75 + 1.5*iqr(df[c])\n",
    "            lower_bound = pct_25 - 1.5*iqr(df[c])\n",
    "            condition = (df[c] < upper_bound) & (df[c] > lower_bound)\n",
    "            df[c] = df[c][condition]\n",
    "    return df"
   ]
  },
  {
   "cell_type": "code",
   "execution_count": null,
   "id": "e2b13299",
   "metadata": {},
   "outputs": [],
   "source": [
    "numerical = df.select_dtypes(include=[np.number])\n",
    "categorical = df.select_dtypes(include=[object])"
   ]
  },
  {
   "cell_type": "code",
   "execution_count": null,
   "id": "9efbfd87",
   "metadata": {},
   "outputs": [],
   "source": [
    "numerical = remove_outliers(numerical)"
   ]
  },
  {
   "cell_type": "code",
   "execution_count": null,
   "id": "657ab308",
   "metadata": {},
   "outputs": [],
   "source": [
    "df = pd.concat([numerical, categorical], axis=1)"
   ]
  },
  {
   "cell_type": "code",
   "execution_count": null,
   "id": "d6fe76ea",
   "metadata": {},
   "outputs": [],
   "source": [
    "df.dropna(inplace=True)"
   ]
  },
  {
   "attachments": {},
   "cell_type": "markdown",
   "id": "d8327c94",
   "metadata": {},
   "source": [
    "#### X, y & train, test split"
   ]
  },
  {
   "cell_type": "code",
   "execution_count": null,
   "id": "5b768f27",
   "metadata": {},
   "outputs": [],
   "source": [
    "X = df.drop('selling_price', axis=1)\n",
    "y = df[['selling_price']].copy()"
   ]
  },
  {
   "cell_type": "code",
   "execution_count": null,
   "id": "3adb6598",
   "metadata": {},
   "outputs": [],
   "source": [
    "numericalX = X.select_dtypes(include=[np.number])\n",
    "categoricalX = X.select_dtypes(include=[object])\n",
    "catX = X.select_dtypes(include=[object])\n",
    "\n",
    "numericalX_columns = numericalX.columns"
   ]
  },
  {
   "cell_type": "code",
   "execution_count": null,
   "id": "a81fc580",
   "metadata": {},
   "outputs": [],
   "source": [
    "numericalX = pd.DataFrame(numericalX, columns=numericalX_columns)\n",
    "categoricalX = pd.get_dummies(categoricalX, drop_first=True)\n",
    "\n",
    "numericalX.reset_index(drop=True, inplace=True)\n",
    "categoricalX.reset_index(drop=True, inplace=True)"
   ]
  },
  {
   "cell_type": "code",
   "execution_count": null,
   "id": "d55137b5",
   "metadata": {},
   "outputs": [],
   "source": [
    "# concat\n",
    "X = pd.concat([categoricalX, numericalX], axis=1, copy=False)"
   ]
  },
  {
   "cell_type": "code",
   "execution_count": null,
   "id": "759b0b99",
   "metadata": {},
   "outputs": [],
   "source": [
    "tt_ratio = 0.3\n",
    "rand_seed = 40"
   ]
  },
  {
   "cell_type": "code",
   "execution_count": null,
   "id": "d9263f16",
   "metadata": {},
   "outputs": [],
   "source": [
    "X_train, X_test, y_train, y_test = train_test_split(X, y, test_size=tt_ratio, random_state=rand_seed)\n",
    "X_train = pd.DataFrame(X_train)\n",
    "X_test = pd.DataFrame(X_test)"
   ]
  },
  {
   "cell_type": "code",
   "execution_count": null,
   "id": "16131df7",
   "metadata": {},
   "outputs": [],
   "source": [
    "# scaler & transformer (train data)\n",
    "X_train_num = X_train[numericalX_columns]\n",
    "X_train_cat = X_train.drop(numericalX_columns, axis=1)\n",
    "\n",
    "scaler = StandardScaler()\n",
    "scaler.fit(X_train_num)\n",
    "X_train_num = scaler.transform(X_train_num)\n",
    "\n",
    "pt = PowerTransformer()\n",
    "pt.fit(X_train_num)\n",
    "X_train_num = pt.transform(X_train_num)\n",
    "X_train_num = pd.DataFrame(X_train_num, columns=numericalX_columns)\n",
    "\n",
    "X_train_num.reset_index(drop=True, inplace=True)\n",
    "X_train_cat.reset_index(drop=True, inplace=True)\n",
    "X_train = pd.concat([X_train_cat, X_train_num], axis=1, copy=False)"
   ]
  },
  {
   "cell_type": "code",
   "execution_count": null,
   "id": "de0472d4",
   "metadata": {},
   "outputs": [],
   "source": [
    "# scaler & transformer (test data)\n",
    "X_test_num = X_test[numericalX_columns]\n",
    "X_test_cat = X_test.drop(numericalX_columns, axis=1)\n",
    "\n",
    "X_test_num = scaler.transform(X_test_num)\n",
    "X_test_num = pt.transform(X_test_num)\n",
    "X_test_num = pd.DataFrame(X_test_num, columns=numericalX_columns)\n",
    "\n",
    "X_test_num.reset_index(drop=True, inplace=True)\n",
    "X_test_cat.reset_index(drop=True, inplace=True)\n",
    "X_test = pd.concat([X_test_cat, X_test_num], axis=1, copy=False)"
   ]
  },
  {
   "cell_type": "code",
   "execution_count": null,
   "id": "9cbc77a4",
   "metadata": {},
   "outputs": [
    {
     "name": "stdout",
     "output_type": "stream",
     "text": [
      "                            OLS Regression Results                            \n",
      "==============================================================================\n",
      "Dep. Variable:          selling_price   R-squared:                       0.667\n",
      "Model:                            OLS   Adj. R-squared:                  0.665\n",
      "Method:                 Least Squares   F-statistic:                     406.0\n",
      "Date:                Sun, 25 Jun 2023   Prob (F-statistic):               0.00\n",
      "Time:                        00:13:08   Log-Likelihood:                -64574.\n",
      "No. Observations:                7339   AIC:                         1.292e+05\n",
      "Df Residuals:                    7302   BIC:                         1.295e+05\n",
      "Df Model:                          36                                         \n",
      "Covariance Type:            nonrobust                                         \n",
      "==============================================================================\n",
      "                 coef    std err          t      P>|t|      [0.025      0.975]\n",
      "------------------------------------------------------------------------------\n",
      "const       3010.6394   1661.196      1.812      0.070    -245.785    6267.063\n",
      "x1          7393.9190   1647.012      4.489      0.000    4165.299    1.06e+04\n",
      "x2          6562.1939   1642.177      3.996      0.000    3343.053    9781.335\n",
      "x3           638.2201   1611.154      0.396      0.692   -2520.107    3796.547\n",
      "x4          -487.8200   1619.436     -0.301      0.763   -3662.383    2686.743\n",
      "x5           524.2023   1623.628      0.323      0.747   -2658.578    3706.983\n",
      "x6          4518.8242   2273.654      1.987      0.047      61.805    8975.843\n",
      "x7          1518.4504   1610.094      0.943      0.346   -1637.798    4674.699\n",
      "x8          2658.7503   1609.906      1.651      0.099    -497.131    5814.631\n",
      "x9          1922.9321   1608.651      1.195      0.232   -1230.489    5076.353\n",
      "x10         7356.6610   2273.744      3.235      0.001    2899.466    1.18e+04\n",
      "x11         6977.7290   1761.968      3.960      0.000    3523.762    1.04e+04\n",
      "x12         5069.0863   1696.003      2.989      0.003    1744.430    8393.743\n",
      "x13         8598.5435   2274.233      3.781      0.000    4140.391    1.31e+04\n",
      "x14         2597.0359   1609.029      1.614      0.107    -557.126    5751.197\n",
      "x15         1388.7286   1608.448      0.863      0.388   -1764.294    4541.752\n",
      "x16         1717.6297   1611.251      1.066      0.286   -1440.887    4876.147\n",
      "x17         6890.1102   1634.106      4.216      0.000    3686.790    1.01e+04\n",
      "x18         6525.1606   1695.013      3.850      0.000    3202.445    9847.876\n",
      "x19         1530.7190   1615.625      0.947      0.343   -1636.373    4697.811\n",
      "x20          577.2149   1611.557      0.358      0.720   -2581.903    3736.333\n",
      "x21         1925.5039   1617.778      1.190      0.234   -1245.809    5096.817\n",
      "x22         4182.5120   1856.984      2.252      0.024     542.288    7822.736\n",
      "x23          518.1862   1609.139      0.322      0.747   -2636.190    3672.563\n",
      "x24         3732.3205   1611.113      2.317      0.021     574.074    6890.567\n",
      "x25         1659.5661   1611.845      1.030      0.303   -1500.116    4819.248\n",
      "x26         6918.8581   1801.124      3.841      0.000    3388.134    1.04e+04\n",
      "x27         2362.9088    173.041     13.655      0.000    2023.699    2702.119\n",
      "x28         5210.1811   1154.321      4.514      0.000    2947.378    7472.984\n",
      "x29          675.8297    317.394      2.129      0.033      53.646    1298.013\n",
      "x30          586.9463    171.925      3.414      0.001     249.924     923.969\n",
      "x31           -5.3478    377.204     -0.014      0.989    -744.776     734.081\n",
      "x32         -295.9035    373.604     -0.792      0.428   -1028.275     436.468\n",
      "x33        -1407.3149     74.064    -19.001      0.000   -1552.502   -1262.128\n",
      "x34        -1565.5762     25.327    -61.814      0.000   -1615.225   -1515.928\n",
      "x35         -190.0946     25.723     -7.390      0.000    -240.520    -139.669\n",
      "x36         -145.4963     21.713     -6.701      0.000    -188.061    -102.932\n",
      "==============================================================================\n",
      "Omnibus:                      714.230   Durbin-Watson:                   1.947\n",
      "Prob(Omnibus):                  0.000   Jarque-Bera (JB):             1231.401\n",
      "Skew:                           0.686   Prob(JB):                    4.02e-268\n",
      "Kurtosis:                       4.464   Cond. No.                         812.\n",
      "==============================================================================\n",
      "\n",
      "Notes:\n",
      "[1] Standard Errors assume that the covariance matrix of the errors is correctly specified.\n"
     ]
    }
   ],
   "source": [
    "X_train_const = sm.add_constant(X_train.to_numpy()) # adding a constant\n",
    "X_test_const = sm.add_constant(X_test) # adding a constant\n",
    "\n",
    "model = sm.OLS(y_train, X_train_const).fit()\n",
    "\n",
    "print_model = model.summary()\n",
    "print(print_model)"
   ]
  },
  {
   "cell_type": "code",
   "execution_count": null,
   "id": "6eaaeabc",
   "metadata": {},
   "outputs": [
    {
     "data": {
      "text/plain": [
       "LinearRegression()"
      ]
     },
     "execution_count": 31,
     "metadata": {},
     "output_type": "execute_result"
    }
   ],
   "source": [
    "model = LinearRegression()    # model\n",
    "model.fit(X_train, y_train)   # model train"
   ]
  },
  {
   "cell_type": "code",
   "execution_count": null,
   "id": "0fa2b651",
   "metadata": {},
   "outputs": [],
   "source": [
    "y_pred = pd.DataFrame(model.predict(X_test),columns = ['selling_price'] )      # model prediction"
   ]
  },
  {
   "cell_type": "code",
   "execution_count": null,
   "id": "1939801a",
   "metadata": {},
   "outputs": [
    {
     "data": {
      "text/plain": [
       "[Text(0.5, 0, 'predicted'), Text(0, 0.5, 'test')]"
      ]
     },
     "execution_count": 33,
     "metadata": {},
     "output_type": "execute_result"
    },
    {
     "data": {
      "image/png": "[encoded data removed]",
      "text/plain": [
       "<Figure size 640x480 with 1 Axes>"
      ]
     },
     "metadata": {},
     "output_type": "display_data"
    }
   ],
   "source": [
    "yp = y_pred.to_numpy()\n",
    "yt = y_test.to_numpy()\n",
    "\n",
    "plot = sns.regplot(x=yp,y=yt,scatter_kws={\"color\": \"red\"}, line_kws={\"color\": \"black\"})\n",
    "plot.set(xlabel='predicted', ylabel='test')"
   ]
  },
  {
   "cell_type": "code",
   "execution_count": null,
   "id": "38943a0f",
   "metadata": {},
   "outputs": [
    {
     "data": {
      "text/html": [
       "<div>\n",
       "<style scoped>\n",
       "    .dataframe tbody tr th:only-of-type {\n",
       "        vertical-align: middle;\n",
       "    }\n",
       "\n",
       "    .dataframe tbody tr th {\n",
       "        vertical-align: top;\n",
       "    }\n",
       "\n",
       "    .dataframe thead th {\n",
       "        text-align: right;\n",
       "    }\n",
       "</style>\n",
       "<table border=\"1\" class=\"dataframe\">\n",
       "  <thead>\n",
       "    <tr style=\"text-align: right;\">\n",
       "      <th></th>\n",
       "      <th>Attribute</th>\n",
       "      <th>Importance</th>\n",
       "    </tr>\n",
       "  </thead>\n",
       "  <tbody>\n",
       "    <tr>\n",
       "      <th>12</th>\n",
       "      <td>name_MINI</td>\n",
       "      <td>8599.0</td>\n",
       "    </tr>\n",
       "    <tr>\n",
       "      <th>0</th>\n",
       "      <td>name_Audi</td>\n",
       "      <td>7394.0</td>\n",
       "    </tr>\n",
       "    <tr>\n",
       "      <th>9</th>\n",
       "      <td>name_Isuzu</td>\n",
       "      <td>7357.0</td>\n",
       "    </tr>\n",
       "    <tr>\n",
       "      <th>10</th>\n",
       "      <td>name_Jeep</td>\n",
       "      <td>6978.0</td>\n",
       "    </tr>\n",
       "    <tr>\n",
       "      <th>25</th>\n",
       "      <td>name_Volvo</td>\n",
       "      <td>6919.0</td>\n",
       "    </tr>\n",
       "    <tr>\n",
       "      <th>16</th>\n",
       "      <td>name_Mercedes-Benz</td>\n",
       "      <td>6890.0</td>\n",
       "    </tr>\n",
       "    <tr>\n",
       "      <th>1</th>\n",
       "      <td>name_BMW</td>\n",
       "      <td>6562.0</td>\n",
       "    </tr>\n",
       "    <tr>\n",
       "      <th>17</th>\n",
       "      <td>name_Mitsubishi</td>\n",
       "      <td>6525.0</td>\n",
       "    </tr>\n",
       "    <tr>\n",
       "      <th>27</th>\n",
       "      <td>fuel_Electric</td>\n",
       "      <td>5210.0</td>\n",
       "    </tr>\n",
       "    <tr>\n",
       "      <th>11</th>\n",
       "      <td>name_Kia</td>\n",
       "      <td>5069.0</td>\n",
       "    </tr>\n",
       "    <tr>\n",
       "      <th>5</th>\n",
       "      <td>name_Force</td>\n",
       "      <td>4519.0</td>\n",
       "    </tr>\n",
       "    <tr>\n",
       "      <th>21</th>\n",
       "      <td>name_Ssangyong</td>\n",
       "      <td>4183.0</td>\n",
       "    </tr>\n",
       "    <tr>\n",
       "      <th>23</th>\n",
       "      <td>name_Toyota</td>\n",
       "      <td>3732.0</td>\n",
       "    </tr>\n",
       "    <tr>\n",
       "      <th>7</th>\n",
       "      <td>name_Honda</td>\n",
       "      <td>2659.0</td>\n",
       "    </tr>\n",
       "    <tr>\n",
       "      <th>13</th>\n",
       "      <td>name_Mahindra</td>\n",
       "      <td>2597.0</td>\n",
       "    </tr>\n",
       "    <tr>\n",
       "      <th>26</th>\n",
       "      <td>fuel_Diesel</td>\n",
       "      <td>2363.0</td>\n",
       "    </tr>\n",
       "    <tr>\n",
       "      <th>20</th>\n",
       "      <td>name_Skoda</td>\n",
       "      <td>1926.0</td>\n",
       "    </tr>\n",
       "    <tr>\n",
       "      <th>8</th>\n",
       "      <td>name_Hyundai</td>\n",
       "      <td>1923.0</td>\n",
       "    </tr>\n",
       "    <tr>\n",
       "      <th>15</th>\n",
       "      <td>name_Maruti Suzuki</td>\n",
       "      <td>1718.0</td>\n",
       "    </tr>\n",
       "    <tr>\n",
       "      <th>24</th>\n",
       "      <td>name_Volkswagen</td>\n",
       "      <td>1660.0</td>\n",
       "    </tr>\n",
       "    <tr>\n",
       "      <th>33</th>\n",
       "      <td>age</td>\n",
       "      <td>1566.0</td>\n",
       "    </tr>\n",
       "    <tr>\n",
       "      <th>18</th>\n",
       "      <td>name_Nissan</td>\n",
       "      <td>1531.0</td>\n",
       "    </tr>\n",
       "    <tr>\n",
       "      <th>6</th>\n",
       "      <td>name_Ford</td>\n",
       "      <td>1518.0</td>\n",
       "    </tr>\n",
       "    <tr>\n",
       "      <th>32</th>\n",
       "      <td>transmission_Manual</td>\n",
       "      <td>1407.0</td>\n",
       "    </tr>\n",
       "    <tr>\n",
       "      <th>14</th>\n",
       "      <td>name_Maruti</td>\n",
       "      <td>1389.0</td>\n",
       "    </tr>\n",
       "    <tr>\n",
       "      <th>28</th>\n",
       "      <td>fuel_LPG</td>\n",
       "      <td>676.0</td>\n",
       "    </tr>\n",
       "    <tr>\n",
       "      <th>2</th>\n",
       "      <td>name_Chevrolet</td>\n",
       "      <td>638.0</td>\n",
       "    </tr>\n",
       "    <tr>\n",
       "      <th>29</th>\n",
       "      <td>fuel_Petrol</td>\n",
       "      <td>587.0</td>\n",
       "    </tr>\n",
       "    <tr>\n",
       "      <th>19</th>\n",
       "      <td>name_Renault</td>\n",
       "      <td>577.0</td>\n",
       "    </tr>\n",
       "    <tr>\n",
       "      <th>4</th>\n",
       "      <td>name_Fiat</td>\n",
       "      <td>524.0</td>\n",
       "    </tr>\n",
       "    <tr>\n",
       "      <th>22</th>\n",
       "      <td>name_Tata</td>\n",
       "      <td>518.0</td>\n",
       "    </tr>\n",
       "    <tr>\n",
       "      <th>3</th>\n",
       "      <td>name_Datsun</td>\n",
       "      <td>488.0</td>\n",
       "    </tr>\n",
       "    <tr>\n",
       "      <th>31</th>\n",
       "      <td>seller_type_Individual</td>\n",
       "      <td>296.0</td>\n",
       "    </tr>\n",
       "    <tr>\n",
       "      <th>34</th>\n",
       "      <td>km_driven</td>\n",
       "      <td>190.0</td>\n",
       "    </tr>\n",
       "    <tr>\n",
       "      <th>35</th>\n",
       "      <td>owner</td>\n",
       "      <td>145.0</td>\n",
       "    </tr>\n",
       "    <tr>\n",
       "      <th>30</th>\n",
       "      <td>seller_type_Dealer</td>\n",
       "      <td>5.0</td>\n",
       "    </tr>\n",
       "  </tbody>\n",
       "</table>\n",
       "</div>"
      ],
      "text/plain": [
       "                 Attribute  Importance\n",
       "12               name_MINI      8599.0\n",
       "0                name_Audi      7394.0\n",
       "9               name_Isuzu      7357.0\n",
       "10               name_Jeep      6978.0\n",
       "25              name_Volvo      6919.0\n",
       "16      name_Mercedes-Benz      6890.0\n",
       "1                 name_BMW      6562.0\n",
       "17         name_Mitsubishi      6525.0\n",
       "27           fuel_Electric      5210.0\n",
       "11                name_Kia      5069.0\n",
       "5               name_Force      4519.0\n",
       "21          name_Ssangyong      4183.0\n",
       "23             name_Toyota      3732.0\n",
       "7               name_Honda      2659.0\n",
       "13           name_Mahindra      2597.0\n",
       "26             fuel_Diesel      2363.0\n",
       "20              name_Skoda      1926.0\n",
       "8             name_Hyundai      1923.0\n",
       "15      name_Maruti Suzuki      1718.0\n",
       "24         name_Volkswagen      1660.0\n",
       "33                     age      1566.0\n",
       "18             name_Nissan      1531.0\n",
       "6                name_Ford      1518.0\n",
       "32     transmission_Manual      1407.0\n",
       "14             name_Maruti      1389.0\n",
       "28                fuel_LPG       676.0\n",
       "2           name_Chevrolet       638.0\n",
       "29             fuel_Petrol       587.0\n",
       "19            name_Renault       577.0\n",
       "4                name_Fiat       524.0\n",
       "22               name_Tata       518.0\n",
       "3              name_Datsun       488.0\n",
       "31  seller_type_Individual       296.0\n",
       "34               km_driven       190.0\n",
       "35                   owner       145.0\n",
       "30      seller_type_Dealer         5.0"
      ]
     },
     "execution_count": 34,
     "metadata": {},
     "output_type": "execute_result"
    }
   ],
   "source": [
    "features_importances = pd.DataFrame(data={\n",
    "    'Attribute': X_train.columns,\n",
    "    'Importance': abs(model.coef_.reshape(len(X_train.columns),))\n",
    "})\n",
    "features_importances = features_importances.sort_values(by='Importance', ascending=False)\n",
    "features_importances.round()"
   ]
  },
  {
   "attachments": {},
   "cell_type": "markdown",
   "id": "af74ecc6",
   "metadata": {},
   "source": [
    "## Prediction prompt"
   ]
  },
  {
   "cell_type": "code",
   "execution_count": null,
   "id": "7ec20946",
   "metadata": {},
   "outputs": [],
   "source": [
    "# function for numerical column input\n",
    "def ask_input_num(question, options):\n",
    "    while True:\n",
    "        prompt = input(f'enter {question}: ') \n",
    "        try:\n",
    "            if int(prompt) not in options:\n",
    "                print(f'pick something between {min(options)} and {max(options)}')\n",
    "            else:\n",
    "                return prompt\n",
    "        except ValueError:\n",
    "            print('enter a number with no decimals!')     \n",
    "        \n",
    "\n",
    "# function for categorical column input\n",
    "def ask_input_cat(question, options):\n",
    "    while True:\n",
    "        prompt = input(f'enter {question}: ')\n",
    "        if (prompt not in options):\n",
    "            print(f'pick one of these: {options} ')\n",
    "        else:\n",
    "            return prompt\n"
   ]
  },
  {
   "cell_type": "code",
   "execution_count": null,
   "id": "910985c5",
   "metadata": {},
   "outputs": [],
   "source": [
    "# final function\n",
    "def prediction():\n",
    "    t = X_test.iloc[:1].copy()\n",
    "    t = pd.DataFrame(t)\n",
    "    t.iloc[:] = 0\n",
    "    \n",
    "    list_of_models = list(df['name'].unique())\n",
    "    list_of_age = list(range(51))\n",
    "    list_of_km = list(range(300001))\n",
    "    list_of_owners = list(df['owner'].unique())\n",
    "    list_of_fuel = list(df['fuel'].unique())\n",
    "    list_of_sellers = list(df['seller_type'].unique())\n",
    "    list_of_transmission = list(df['transmission'].unique())\n",
    "    \n",
    "    model = ask_input_cat('model name', list_of_models)\n",
    "    age = ask_input_num('car\\'s age', list_of_age)\n",
    "    km = ask_input_num('car\\'s distance travelled', list_of_km)\n",
    "    owner = ask_input_num('number of previous owners', list_of_owners)\n",
    "    fuel = ask_input_cat('fuel type', list_of_fuel)\n",
    "    seller = ask_input_cat('seller type', list_of_sellers)\n",
    "    transmission = ask_input_cat('transmission type', list_of_transmission)\n",
    "    \n",
    "    t.at[0, f'name_{model}'] = 1\n",
    "    t.at[0, 'age'] = age\n",
    "    t.at[0, 'km_driven'] = km\n",
    "    t.at[0, 'owner'] = owner\n",
    "    t.at[0, f'fuel_{fuel}'] = 1\n",
    "    t.at[0, f'seller_type_{seller}'] = 1\n",
    "    t.at[0, f'transmission_{transmission}'] = 1\n",
    "    \n",
    "    if model == 'Ambassador':\n",
    "        t.drop(['name_Ambassador'], axis=1, inplace=True)\n",
    "    if fuel == 'CNG':\n",
    "        t.drop(['fuel_CNG'], axis=1, inplace=True)\n",
    "    if seller == 'Corporate':\n",
    "        t.drop(['seller_type_Corporate'], axis=1, inplace=True)\n",
    "    if transmission == 'Automatic':\n",
    "        t.drop(['transmission_Automatic'], axis=1, inplace=True)\n",
    "    \n",
    "    t_num = t[numericalX_columns]\n",
    "    t_cat = t.drop(numericalX_columns, axis=1)\n",
    "\n",
    "    t_num = scaler.transform(t_num)\n",
    "    t_num = pt.transform(t_num)\n",
    "    t_num = pd.DataFrame(t_num, columns=numericalX_columns)\n",
    "\n",
    "    t = pd.concat([t_cat, t_num], axis=1, copy=False) \n",
    "    \n",
    "    ml_model = LinearRegression()\n",
    "    ml_model.fit(X_train, y_train)\n",
    "    price = ml_model.predict(t).tolist()[0][0]\n",
    "    \n",
    "    if price < 0:\n",
    "        price = 0\n",
    "    else:\n",
    "        price = round(price)\n",
    "    \n",
    "    if price == 0:\n",
    "        output = 'Sorry, but the model says this car is worthless :('\n",
    "    else:\n",
    "        output = f'Predicted price for your car is: {price} $.'\n",
    "        \n",
    "    return output\n"
   ]
  },
  {
   "cell_type": "code",
   "execution_count": null,
   "id": "64925184",
   "metadata": {},
   "outputs": [
    {
     "name": "stdout",
     "output_type": "stream",
     "text": [
      "pick one of these: ['Maruti', 'Hyundai', 'Datsun', 'Honda', 'Tata', 'Chevrolet', 'Skoda', 'Toyota', 'Mercedes-Benz', 'Audi', 'Mahindra', 'Ford', 'Nissan', 'Renault', 'Fiat', 'Volkswagen', 'Mitsubishi', 'Force', 'BMW', 'Kia', 'Ambassador', 'Jeep', 'Volvo', 'Isuzu', 'Maruti Suzuki', 'Ssangyong', 'MINI'] \n",
      "pick one of these: ['Maruti', 'Hyundai', 'Datsun', 'Honda', 'Tata', 'Chevrolet', 'Skoda', 'Toyota', 'Mercedes-Benz', 'Audi', 'Mahindra', 'Ford', 'Nissan', 'Renault', 'Fiat', 'Volkswagen', 'Mitsubishi', 'Force', 'BMW', 'Kia', 'Ambassador', 'Jeep', 'Volvo', 'Isuzu', 'Maruti Suzuki', 'Ssangyong', 'MINI'] \n",
      "pick one of these: ['Maruti', 'Hyundai', 'Datsun', 'Honda', 'Tata', 'Chevrolet', 'Skoda', 'Toyota', 'Mercedes-Benz', 'Audi', 'Mahindra', 'Ford', 'Nissan', 'Renault', 'Fiat', 'Volkswagen', 'Mitsubishi', 'Force', 'BMW', 'Kia', 'Ambassador', 'Jeep', 'Volvo', 'Isuzu', 'Maruti Suzuki', 'Ssangyong', 'MINI'] \n"
     ]
    },
    {
     "data": {
      "text/plain": [
       "'Predicted price for your car is: 12285 $.'"
      ]
     },
     "execution_count": 37,
     "metadata": {},
     "output_type": "execute_result"
    }
   ],
   "source": [
    "prediction()"
   ]
  }
 ],
 "metadata": {
  "kernelspec": {
   "display_name": "Python 3 (ipykernel)",
   "language": "python",
   "name": "python3"
  },
  "language_info": {
   "codemirror_mode": {
    "name": "ipython",
    "version": 3
   },
   "file_extension": ".py",
   "mimetype": "text/x-python",
   "name": "python",
   "nbconvert_exporter": "python",
   "pygments_lexer": "ipython3",
   "version": "3.9.15"
  }
 },
 "nbformat": 4,
 "nbformat_minor": 5
}
